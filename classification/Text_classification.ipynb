{
  "nbformat": 4,
  "nbformat_minor": 0,
  "metadata": {
    "colab": {
      "name": "Text_classification.ipynb",
      "version": "0.3.2",
      "provenance": [],
      "collapsed_sections": [],
      "include_colab_link": true
    },
    "kernelspec": {
      "name": "python3",
      "display_name": "Python 3"
    }
  },
  "cells": [
    {
      "cell_type": "markdown",
      "metadata": {
        "id": "view-in-github",
        "colab_type": "text"
      },
      "source": [
        "<a href=\"https://colab.research.google.com/github/emjames/neural-networks/blob/master/classification/Text_classification.ipynb\" target=\"_parent\"><img src=\"https://colab.research.google.com/assets/colab-badge.svg\" alt=\"Open In Colab\"/></a>"
      ]
    },
    {
      "metadata": {
        "id": "5aYIQrxfNt_F",
        "colab_type": "text"
      },
      "cell_type": "markdown",
      "source": [
        "# Text classification with movie reviews\n",
        "\n",
        "This notebook mostly follows this [TensorFlow Tutorial](https://www.tensorflow.org/tutorials/keras/basic_text_classification)\n",
        "\n",
        "This is an example of binary classification.\n",
        "\n",
        "## Objectives:\n",
        "* Classify movie reviews as positive or negatives\n",
        "\n",
        "Using the [IMDB dataset](https://www.tensorflow.org/api_docs/python/tf/keras/datasets/imdb) which contains 50,000 reviews split 50/50 for training and testing respectively."
      ]
    },
    {
      "metadata": {
        "id": "bMxEo3jDL76f",
        "colab_type": "code",
        "outputId": "7f4aafea-f800-494f-f583-f6cf4e713894",
        "colab": {
          "base_uri": "https://localhost:8080/",
          "height": 52
        }
      },
      "cell_type": "code",
      "source": [
        "# imports\n",
        "# We're in py3 so we're in the future ... for now\n",
        "# from __future__ import absoulte_import, division, print_function\n",
        "import tensorflow as tf\n",
        "from tensorflow import keras\n",
        "import numpy as np\n",
        "\n",
        "# plots\n",
        "import matplotlib.pyplot as plt\n",
        "\n",
        "\n",
        "print(tf.__version__)\n",
        "!python --version"
      ],
      "execution_count": 1,
      "outputs": [
        {
          "output_type": "stream",
          "text": [
            "1.13.1\n",
            "Python 3.6.7\n"
          ],
          "name": "stdout"
        }
      ]
    },
    {
      "metadata": {
        "id": "fDYCU3-7W6pK",
        "colab_type": "text"
      },
      "cell_type": "markdown",
      "source": [
        "# Fetch the dataset"
      ]
    },
    {
      "metadata": {
        "id": "SiL2dhOHVSgq",
        "colab_type": "code",
        "colab": {}
      },
      "cell_type": "code",
      "source": [
        "imdb = keras.datasets.imdb\n",
        "\n",
        "# keep the top 10,000 most frequently occurring words in the training data\n",
        "(train_data, train_labels), (test_data, test_labels) = imdb.load_data(num_words=10000)\n"
      ],
      "execution_count": 0,
      "outputs": []
    },
    {
      "metadata": {
        "id": "RnGDEQF5W9Lk",
        "colab_type": "text"
      },
      "cell_type": "markdown",
      "source": [
        "# Explore "
      ]
    },
    {
      "metadata": {
        "id": "1QKGWK2NWkJY",
        "colab_type": "code",
        "outputId": "20b48e9d-4e50-492b-882c-bf5a65a55997",
        "colab": {
          "base_uri": "https://localhost:8080/",
          "height": 158
        }
      },
      "cell_type": "code",
      "source": [
        "print(\"Training {}, labels: {}\".format(len(train_data), len(train_labels)))\n",
        "# Get the first n elements in the dataset\n",
        "n = 5\n",
        "print(train_data[:n])\n",
        "print(train_labels[:n])\n"
      ],
      "execution_count": 3,
      "outputs": [
        {
          "output_type": "stream",
          "text": [
            "Training 25000, labels: 25000\n",
            "[list([1, 14, 22, 16, 43, 530, 973, 1622, 1385, 65, 458, 4468, 66, 3941, 4, 173, 36, 256, 5, 25, 100, 43, 838, 112, 50, 670, 2, 9, 35, 480, 284, 5, 150, 4, 172, 112, 167, 2, 336, 385, 39, 4, 172, 4536, 1111, 17, 546, 38, 13, 447, 4, 192, 50, 16, 6, 147, 2025, 19, 14, 22, 4, 1920, 4613, 469, 4, 22, 71, 87, 12, 16, 43, 530, 38, 76, 15, 13, 1247, 4, 22, 17, 515, 17, 12, 16, 626, 18, 2, 5, 62, 386, 12, 8, 316, 8, 106, 5, 4, 2223, 5244, 16, 480, 66, 3785, 33, 4, 130, 12, 16, 38, 619, 5, 25, 124, 51, 36, 135, 48, 25, 1415, 33, 6, 22, 12, 215, 28, 77, 52, 5, 14, 407, 16, 82, 2, 8, 4, 107, 117, 5952, 15, 256, 4, 2, 7, 3766, 5, 723, 36, 71, 43, 530, 476, 26, 400, 317, 46, 7, 4, 2, 1029, 13, 104, 88, 4, 381, 15, 297, 98, 32, 2071, 56, 26, 141, 6, 194, 7486, 18, 4, 226, 22, 21, 134, 476, 26, 480, 5, 144, 30, 5535, 18, 51, 36, 28, 224, 92, 25, 104, 4, 226, 65, 16, 38, 1334, 88, 12, 16, 283, 5, 16, 4472, 113, 103, 32, 15, 16, 5345, 19, 178, 32])\n",
            " list([1, 194, 1153, 194, 8255, 78, 228, 5, 6, 1463, 4369, 5012, 134, 26, 4, 715, 8, 118, 1634, 14, 394, 20, 13, 119, 954, 189, 102, 5, 207, 110, 3103, 21, 14, 69, 188, 8, 30, 23, 7, 4, 249, 126, 93, 4, 114, 9, 2300, 1523, 5, 647, 4, 116, 9, 35, 8163, 4, 229, 9, 340, 1322, 4, 118, 9, 4, 130, 4901, 19, 4, 1002, 5, 89, 29, 952, 46, 37, 4, 455, 9, 45, 43, 38, 1543, 1905, 398, 4, 1649, 26, 6853, 5, 163, 11, 3215, 2, 4, 1153, 9, 194, 775, 7, 8255, 2, 349, 2637, 148, 605, 2, 8003, 15, 123, 125, 68, 2, 6853, 15, 349, 165, 4362, 98, 5, 4, 228, 9, 43, 2, 1157, 15, 299, 120, 5, 120, 174, 11, 220, 175, 136, 50, 9, 4373, 228, 8255, 5, 2, 656, 245, 2350, 5, 4, 9837, 131, 152, 491, 18, 2, 32, 7464, 1212, 14, 9, 6, 371, 78, 22, 625, 64, 1382, 9, 8, 168, 145, 23, 4, 1690, 15, 16, 4, 1355, 5, 28, 6, 52, 154, 462, 33, 89, 78, 285, 16, 145, 95])\n",
            " list([1, 14, 47, 8, 30, 31, 7, 4, 249, 108, 7, 4, 5974, 54, 61, 369, 13, 71, 149, 14, 22, 112, 4, 2401, 311, 12, 16, 3711, 33, 75, 43, 1829, 296, 4, 86, 320, 35, 534, 19, 263, 4821, 1301, 4, 1873, 33, 89, 78, 12, 66, 16, 4, 360, 7, 4, 58, 316, 334, 11, 4, 1716, 43, 645, 662, 8, 257, 85, 1200, 42, 1228, 2578, 83, 68, 3912, 15, 36, 165, 1539, 278, 36, 69, 2, 780, 8, 106, 14, 6905, 1338, 18, 6, 22, 12, 215, 28, 610, 40, 6, 87, 326, 23, 2300, 21, 23, 22, 12, 272, 40, 57, 31, 11, 4, 22, 47, 6, 2307, 51, 9, 170, 23, 595, 116, 595, 1352, 13, 191, 79, 638, 89, 2, 14, 9, 8, 106, 607, 624, 35, 534, 6, 227, 7, 129, 113])\n",
            " list([1, 4, 2, 2, 33, 2804, 4, 2040, 432, 111, 153, 103, 4, 1494, 13, 70, 131, 67, 11, 61, 2, 744, 35, 3715, 761, 61, 5766, 452, 9214, 4, 985, 7, 2, 59, 166, 4, 105, 216, 1239, 41, 1797, 9, 15, 7, 35, 744, 2413, 31, 8, 4, 687, 23, 4, 2, 7339, 6, 3693, 42, 38, 39, 121, 59, 456, 10, 10, 7, 265, 12, 575, 111, 153, 159, 59, 16, 1447, 21, 25, 586, 482, 39, 4, 96, 59, 716, 12, 4, 172, 65, 9, 579, 11, 6004, 4, 1615, 5, 2, 7, 5168, 17, 13, 7064, 12, 19, 6, 464, 31, 314, 11, 2, 6, 719, 605, 11, 8, 202, 27, 310, 4, 3772, 3501, 8, 2722, 58, 10, 10, 537, 2116, 180, 40, 14, 413, 173, 7, 263, 112, 37, 152, 377, 4, 537, 263, 846, 579, 178, 54, 75, 71, 476, 36, 413, 263, 2504, 182, 5, 17, 75, 2306, 922, 36, 279, 131, 2895, 17, 2867, 42, 17, 35, 921, 2, 192, 5, 1219, 3890, 19, 2, 217, 4122, 1710, 537, 2, 1236, 5, 736, 10, 10, 61, 403, 9, 2, 40, 61, 4494, 5, 27, 4494, 159, 90, 263, 2311, 4319, 309, 8, 178, 5, 82, 4319, 4, 65, 15, 9225, 145, 143, 5122, 12, 7039, 537, 746, 537, 537, 15, 7979, 4, 2, 594, 7, 5168, 94, 9096, 3987, 2, 11, 2, 4, 538, 7, 1795, 246, 2, 9, 2, 11, 635, 14, 9, 51, 408, 12, 94, 318, 1382, 12, 47, 6, 2683, 936, 5, 6307, 2, 19, 49, 7, 4, 1885, 2, 1118, 25, 80, 126, 842, 10, 10, 2, 2, 4726, 27, 4494, 11, 1550, 3633, 159, 27, 341, 29, 2733, 19, 4185, 173, 7, 90, 2, 8, 30, 11, 4, 1784, 86, 1117, 8, 3261, 46, 11, 2, 21, 29, 9, 2841, 23, 4, 1010, 2, 793, 6, 2, 1386, 1830, 10, 10, 246, 50, 9, 6, 2750, 1944, 746, 90, 29, 2, 8, 124, 4, 882, 4, 882, 496, 27, 2, 2213, 537, 121, 127, 1219, 130, 5, 29, 494, 8, 124, 4, 882, 496, 4, 341, 7, 27, 846, 10, 10, 29, 9, 1906, 8, 97, 6, 236, 2, 1311, 8, 4, 2, 7, 31, 7, 2, 91, 2, 3987, 70, 4, 882, 30, 579, 42, 9, 12, 32, 11, 537, 10, 10, 11, 14, 65, 44, 537, 75, 2, 1775, 3353, 2, 1846, 4, 2, 7, 154, 5, 4, 518, 53, 2, 2, 7, 3211, 882, 11, 399, 38, 75, 257, 3807, 19, 2, 17, 29, 456, 4, 65, 7, 27, 205, 113, 10, 10, 2, 4, 2, 2, 9, 242, 4, 91, 1202, 2, 5, 2070, 307, 22, 7, 5168, 126, 93, 40, 2, 13, 188, 1076, 3222, 19, 4, 2, 7, 2348, 537, 23, 53, 537, 21, 82, 40, 2, 13, 2, 14, 280, 13, 219, 4, 2, 431, 758, 859, 4, 953, 1052, 2, 7, 5991, 5, 94, 40, 25, 238, 60, 2, 4, 2, 804, 2, 7, 4, 9941, 132, 8, 67, 6, 22, 15, 9, 283, 8, 5168, 14, 31, 9, 242, 955, 48, 25, 279, 2, 23, 12, 1685, 195, 25, 238, 60, 796, 2, 4, 671, 7, 2804, 5, 4, 559, 154, 888, 7, 726, 50, 26, 49, 7008, 15, 566, 30, 579, 21, 64, 2574])\n",
            " list([1, 249, 1323, 7, 61, 113, 10, 10, 13, 1637, 14, 20, 56, 33, 2401, 18, 457, 88, 13, 2626, 1400, 45, 3171, 13, 70, 79, 49, 706, 919, 13, 16, 355, 340, 355, 1696, 96, 143, 4, 22, 32, 289, 7, 61, 369, 71, 2359, 5, 13, 16, 131, 2073, 249, 114, 249, 229, 249, 20, 13, 28, 126, 110, 13, 473, 8, 569, 61, 419, 56, 429, 6, 1513, 18, 35, 534, 95, 474, 570, 5, 25, 124, 138, 88, 12, 421, 1543, 52, 725, 6397, 61, 419, 11, 13, 1571, 15, 1543, 20, 11, 4, 2, 5, 296, 12, 3524, 5, 15, 421, 128, 74, 233, 334, 207, 126, 224, 12, 562, 298, 2167, 1272, 7, 2601, 5, 516, 988, 43, 8, 79, 120, 15, 595, 13, 784, 25, 3171, 18, 165, 170, 143, 19, 14, 5, 7224, 6, 226, 251, 7, 61, 113])]\n",
            "[1 0 0 1 0]\n"
          ],
          "name": "stdout"
        }
      ]
    },
    {
      "metadata": {
        "id": "McKHyOdew3NK",
        "colab_type": "code",
        "colab": {}
      },
      "cell_type": "code",
      "source": [
        "# Plot the length of the data array\n",
        "import matplotlib.pyplot as plt\n",
        "#%matplotlib notebook"
      ],
      "execution_count": 0,
      "outputs": []
    },
    {
      "metadata": {
        "id": "ved31y0dXGQw",
        "colab_type": "code",
        "colab": {}
      },
      "cell_type": "code",
      "source": [
        "def plot_review_length_w_labels(data, labels, n=5, plot_title=\"No title\"):\n",
        "  # get the first N rows\n",
        "  first_n = data[:n]\n",
        "\n",
        "  # length of the first_n list\n",
        "  first_n_length = [len(l) for l in first_n]\n",
        "\n",
        "  dataset_count = np.arange(0,n)\n",
        "\n",
        "  # green if the label is 1 (positive review), red otherwise \n",
        "  colors = [ 'g' if label == 1 else 'r' for label in labels[:n]]\n",
        "\n",
        "  # make an array with the given shape filled with 'o'\n",
        "  markers = np.full((n,), 'o')\n",
        "\n",
        "  plt.clf() # clear figure\n",
        "  # plot a dotted line to improve visualization\n",
        "  plt.plot(dataset_count, first_n_length, 'b--')\n",
        "\n",
        "  for x, y, color, mark in zip(dataset_count, first_n_length, colors, markers):\n",
        "    plt.plot(x, y, c=color, marker=mark)\n",
        "  \n",
        "  plt.ylabel('List length')\n",
        "  plt.xlabel('List index')\n",
        "  plt.xticks(dataset_count)\n",
        "  plt.title(plot_title)\n",
        "\n",
        "  plt.show()"
      ],
      "execution_count": 0,
      "outputs": []
    },
    {
      "metadata": {
        "id": "-hu3wuuiMQXA",
        "colab_type": "code",
        "colab": {
          "base_uri": "https://localhost:8080/",
          "height": 295
        },
        "outputId": "21b1d8bd-72a9-4582-e95c-a3b8d13b8d03"
      },
      "cell_type": "code",
      "source": [
        "plot_review_length_w_labels(train_data, train_labels, plot_title=\"Plot #1\")"
      ],
      "execution_count": 6,
      "outputs": [
        {
          "output_type": "display_data",
          "data": {
            "image/png": "[encoded data removed]",
            "text/plain": [
              "<Figure size 432x288 with 1 Axes>"
            ]
          },
          "metadata": {
            "tags": []
          }
        }
      ]
    },
    {
      "metadata": {
        "id": "LmULVma2EzIB",
        "colab_type": "text"
      },
      "cell_type": "markdown",
      "source": [
        "Plot #1 shows the variation on the list length.  \n",
        "Since inputs to a neural network must be the same length, we'll need to resolve this later"
      ]
    },
    {
      "metadata": {
        "id": "-znOQxSVFR5D",
        "colab_type": "text"
      },
      "cell_type": "markdown",
      "source": [
        "# Convert the integers back to words"
      ]
    },
    {
      "metadata": {
        "id": "ZsI9-L8Fbgx8",
        "colab_type": "code",
        "colab": {}
      },
      "cell_type": "code",
      "source": [
        "# a dictionary mapping words to an integer index\n",
        "word_index = imdb.get_word_index()\n",
        "\n",
        "# the first indeces are reserved\n",
        "word_index = {k:(v+3) for k,v in word_index.items()}\n",
        "word_index[\"<PAD>\"] = 0\n",
        "word_index[\"<START>\"] = 1\n",
        "word_index[\"<UNK>\"] = 2 # unknown\n",
        "word_index[\"<UNUSED>\"] = 3\n",
        "\n",
        "reverse_word_index = dict([(value, key) for (key, value) in word_index.items()])\n",
        "\n",
        "def decode_review(text):\n",
        "  return ' '.join([reverse_word_index.get(i, '?') for i in text])"
      ],
      "execution_count": 0,
      "outputs": []
    },
    {
      "metadata": {
        "id": "kAasAY3MxNrH",
        "colab_type": "code",
        "colab": {
          "base_uri": "https://localhost:8080/",
          "height": 55
        },
        "outputId": "32b0604e-8dc1-48f8-fc06-5df18b63be59"
      },
      "cell_type": "code",
      "source": [
        "# view a decoded review\n",
        "decode_review(train_data[0])"
      ],
      "execution_count": 8,
      "outputs": [
        {
          "output_type": "execute_result",
          "data": {
            "text/plain": [
              "\"<START> this film was just brilliant casting location scenery story direction everyone's really suited the part they played and you could just imagine being there robert <UNK> is an amazing actor and now the same being director <UNK> father came from the same scottish island as myself so i loved the fact there was a real connection with this film the witty remarks throughout the film were great it was just brilliant so much that i bought the film as soon as it was released for <UNK> and would recommend it to everyone to watch and the fly fishing was amazing really cried at the end it was so sad and you know what they say if you cry at a film it must have been good and this definitely was also <UNK> to the two little boy's that played the <UNK> of norman and paul they were just brilliant children are often left out of the <UNK> list i think because the stars that play them all grown up are such a big profile for the whole film but these children are amazing and should be praised for what they have done don't you think the whole story was so lovely because it was true and was someone's life after all that was shared with us all\""
            ]
          },
          "metadata": {
            "tags": []
          },
          "execution_count": 8
        }
      ]
    },
    {
      "metadata": {
        "id": "-IBCODZsHU15",
        "colab_type": "text"
      },
      "cell_type": "markdown",
      "source": [
        "# Prepare the data\n",
        "The reviews in integer form must be converted to tensors before fed into the NN. Two of the approaches:\n",
        "\n",
        "  * Convert te arrays into vectors of 0s and 1s indicating word occurence (think one-hot encoding). Then, make this the first layer of our network - a Dense layer - that can handle floating point vector data. This is memory intensive, requiring a `numb_words * num_reviews` size matrix.\n",
        "  * Pad the arrays so they all have the same length, then create an integer tensor of shape `max_length * num_reviews`. We can use an embedding layer capable of handling this shape as the first layer in the network.\n",
        "  \n",
        "  We will use the second approach.\n",
        "  \n",
        "  Keras provides a [pad_sequences](https://www.tensorflow.org/api_docs/python/tf/keras/preprocessing/sequence/pad_sequences) function to standardize the lengths:"
      ]
    },
    {
      "metadata": {
        "id": "Cla9xOk_CpS4",
        "colab_type": "code",
        "colab": {}
      },
      "cell_type": "code",
      "source": [
        "def pad_array(array, maxlen=256):\n",
        "  return keras.preprocessing.sequence.pad_sequences(array,\n",
        "                                                   value=word_index[\"<PAD>\"],\n",
        "                                                   padding='post',\n",
        "                                                   maxlen=256)\n",
        "\n",
        "train_data = pad_array(train_data)\n",
        "test_data = pad_array(test_data)"
      ],
      "execution_count": 0,
      "outputs": []
    },
    {
      "metadata": {
        "id": "vc1uu2l-I7R1",
        "colab_type": "code",
        "colab": {
          "base_uri": "https://localhost:8080/",
          "height": 295
        },
        "outputId": "6e83f0c4-bfaa-4582-f98e-f2364e765800"
      },
      "cell_type": "code",
      "source": [
        "plot_review_length_w_labels(train_data, train_labels, plot_title=\"Plot #2\")"
      ],
      "execution_count": 10,
      "outputs": [
        {
          "output_type": "display_data",
          "data": {
            "image/png": "[encoded data removed]",
            "text/plain": [
              "<Figure size 432x288 with 1 Axes>"
            ]
          },
          "metadata": {
            "tags": []
          }
        }
      ]
    },
    {
      "metadata": {
        "id": "8EZuAPp7M6H9",
        "colab_type": "text"
      },
      "cell_type": "markdown",
      "source": [
        "# Build the model  \n",
        "\n",
        "The NN is created by stacking layers -- this requires two main architectural decisions:\n",
        "  * How many layers to use in the model?  \n",
        "  * How many hidden units to use for each layer?  \n",
        "\n",
        "On this dataset, the input data consists of an array of word-indices. The labels to predict are either 0 or 1. Let's build a model for this problem.\n",
        "\n",
        "The layers are stacked sequentially:\n",
        "  1. The first layer is an `Embedding` layer. This layer takes the integer-encoded vocabulary and looks up the embedding vector for each word-index. These vectors are learned as the model trains. The resulting dimensions are: `(batch, sequence, embedding)`\n",
        "  2. The `GlobalAveragePooling1D` layer. Returns a fixed-length output vector for each example by averaging over the sequence dimension. Allow the model to handle input of variable length, in the simplest way possible.\n",
        "  3. The fixed-length output vecotr is piped through a fully-connected (`Dense`) layer with 16 hidden units (more on this in the next section).\n",
        "  4. The last layer is densely connected with a single output node. Using the `sigmoid` activation function, this value is a float between 0 1nd 1, representing a probability, or confidence level.\n"
      ]
    },
    {
      "metadata": {
        "id": "yfyoa4W8I-_Z",
        "colab_type": "code",
        "colab": {
          "base_uri": "https://localhost:8080/",
          "height": 348
        },
        "outputId": "d574c556-0d4e-412b-d696-a0d178577f3d"
      },
      "cell_type": "code",
      "source": [
        "# input shape is the vocabular count used for the move reviews (10k words)\n",
        "vocab_size = 10000\n",
        "\n",
        "model = keras.Sequential()\n",
        "model.add(keras.layers.Embedding(vocab_size, 16))\n",
        "model.add(keras.layers.GlobalAveragePooling1D())\n",
        "model.add(keras.layers.Dense(16, activation=tf.nn.relu))\n",
        "model.add(keras.layers.Dense(1, activation=tf.nn.sigmoid))\n",
        "\n",
        "model.summary()"
      ],
      "execution_count": 11,
      "outputs": [
        {
          "output_type": "stream",
          "text": [
            "WARNING:tensorflow:From /usr/local/lib/python3.6/dist-packages/tensorflow/python/ops/resource_variable_ops.py:435: colocate_with (from tensorflow.python.framework.ops) is deprecated and will be removed in a future version.\n",
            "Instructions for updating:\n",
            "Colocations handled automatically by placer.\n",
            "_________________________________________________________________\n",
            "Layer (type)                 Output Shape              Param #   \n",
            "=================================================================\n",
            "embedding (Embedding)        (None, None, 16)          160000    \n",
            "_________________________________________________________________\n",
            "global_average_pooling1d (Gl (None, 16)                0         \n",
            "_________________________________________________________________\n",
            "dense (Dense)                (None, 16)                272       \n",
            "_________________________________________________________________\n",
            "dense_1 (Dense)              (None, 1)                 17        \n",
            "=================================================================\n",
            "Total params: 160,289\n",
            "Trainable params: 160,289\n",
            "Non-trainable params: 0\n",
            "_________________________________________________________________\n"
          ],
          "name": "stdout"
        }
      ]
    },
    {
      "metadata": {
        "id": "zakQ24k5SCg2",
        "colab_type": "text"
      },
      "cell_type": "markdown",
      "source": [
        "## Hidden units\n",
        "\n",
        "The above model has two intermediate or \"hidden\" layers, between the input and output. The number of outputs (units, nodes or neurons) is the dimension of the representational space for the layer. In other words, the amount of freedom the network is allowed when learning an internal representation.\n",
        "\n",
        "More hidden units (higher-dimensional representation space), and/or more layers, the network can learn more complex representations. However, it makes the network more expensive and may lead to overfitting (i.e. learning unwanted patterns, memorizing the training data)."
      ]
    },
    {
      "metadata": {
        "id": "82KInmmyTPWr",
        "colab_type": "text"
      },
      "cell_type": "markdown",
      "source": [
        "## Lost function and optimizer\n",
        "\n",
        "A model needs a loss function and an optimizer for training. Since this is a binary classification problem and the model outputs a probability (last layer with sigmoid activation), we'll use the `binary_crossentropy` loss function.\n",
        "\n",
        "We can also choose `mean_squared_error` but generally, `binary_crossentropy` is better for dealing with probabilites as it measures the \"distance\" between probability distributions, or in this case, distance between the ground-truth distribution and the predictions.\n",
        "\n",
        "Now, configure the model to use an optimizer and a loss function:"
      ]
    },
    {
      "metadata": {
        "id": "a1A9n0hOJaHs",
        "colab_type": "code",
        "colab": {}
      },
      "cell_type": "code",
      "source": [
        "model.compile(optimizer='adam',\n",
        "             loss='binary_crossentropy',\n",
        "             metrics=['acc'])"
      ],
      "execution_count": 0,
      "outputs": []
    },
    {
      "metadata": {
        "id": "ISxw4wZ_UHLO",
        "colab_type": "text"
      },
      "cell_type": "markdown",
      "source": [
        "# Create a validation set\n",
        "\n",
        "A validation set helps to check the accuracy of the model on data it hasn't seen before. \n",
        "\n",
        "*Why not use the testing set now?* Our goal is to develop and tune our model using only the training data, then use the test data just once to evaluate our accuracy."
      ]
    },
    {
      "metadata": {
        "id": "VtBom-IzJfof",
        "colab_type": "code",
        "colab": {}
      },
      "cell_type": "code",
      "source": [
        "validation_n = 10000\n",
        "\n",
        "x_val = train_data[:validation_n]\n",
        "partial_x_train = train_data[validation_n:]\n",
        "\n",
        "y_val = train_labels[:validation_n]\n",
        "partial_y_train = train_labels[validation_n:]"
      ],
      "execution_count": 0,
      "outputs": []
    },
    {
      "metadata": {
        "id": "rKuh0TCSU57d",
        "colab_type": "text"
      },
      "cell_type": "markdown",
      "source": [
        "# Train the model\n",
        "\n",
        "Train the model for 40 epocs in mini-batches of 512 samples. This is 40 iterations over all samples in the `x_train` and `y_train` tensors. While training, **monitor the model's loss** and **accuracy** on the 10,000 samples from the validation set."
      ]
    },
    {
      "metadata": {
        "id": "pt4pvV7wU4g8",
        "colab_type": "code",
        "colab": {
          "base_uri": "https://localhost:8080/",
          "height": 1488
        },
        "outputId": "dbf1dae4-9259-4e85-eff6-bd367de59461"
      },
      "cell_type": "code",
      "source": [
        "def train_model(epochs=40):\n",
        "  return model.fit(partial_x_train,\n",
        "                   partial_y_train,\n",
        "                   epochs=epochs,\n",
        "                   batch_size=512,\n",
        "                   validation_data=(x_val, y_val),\n",
        "                   verbose=1)\n",
        "\n",
        "history = train_model()"
      ],
      "execution_count": 14,
      "outputs": [
        {
          "output_type": "stream",
          "text": [
            "Train on 15000 samples, validate on 10000 samples\n",
            "WARNING:tensorflow:From /usr/local/lib/python3.6/dist-packages/tensorflow/python/ops/math_ops.py:3066: to_int32 (from tensorflow.python.ops.math_ops) is deprecated and will be removed in a future version.\n",
            "Instructions for updating:\n",
            "Use tf.cast instead.\n",
            "Epoch 1/40\n",
            "15000/15000 [==============================] - 1s 60us/sample - loss: 0.6916 - acc: 0.6036 - val_loss: 0.6889 - val_acc: 0.6741\n",
            "Epoch 2/40\n",
            "15000/15000 [==============================] - 1s 49us/sample - loss: 0.6847 - acc: 0.7027 - val_loss: 0.6796 - val_acc: 0.7222\n",
            "Epoch 3/40\n",
            "15000/15000 [==============================] - 1s 47us/sample - loss: 0.6706 - acc: 0.7433 - val_loss: 0.6622 - val_acc: 0.7433\n",
            "Epoch 4/40\n",
            "15000/15000 [==============================] - 1s 47us/sample - loss: 0.6470 - acc: 0.7646 - val_loss: 0.6355 - val_acc: 0.7482\n",
            "Epoch 5/40\n",
            "15000/15000 [==============================] - 1s 47us/sample - loss: 0.6132 - acc: 0.7930 - val_loss: 0.6004 - val_acc: 0.7835\n",
            "Epoch 6/40\n",
            "15000/15000 [==============================] - 1s 46us/sample - loss: 0.5712 - acc: 0.8157 - val_loss: 0.5601 - val_acc: 0.8106\n",
            "Epoch 7/40\n",
            "15000/15000 [==============================] - 1s 46us/sample - loss: 0.5246 - acc: 0.8358 - val_loss: 0.5165 - val_acc: 0.8219\n",
            "Epoch 8/40\n",
            "15000/15000 [==============================] - 1s 49us/sample - loss: 0.4781 - acc: 0.8503 - val_loss: 0.4764 - val_acc: 0.8356\n",
            "Epoch 9/40\n",
            "15000/15000 [==============================] - 1s 49us/sample - loss: 0.4349 - acc: 0.8651 - val_loss: 0.4403 - val_acc: 0.8451\n",
            "Epoch 10/40\n",
            "15000/15000 [==============================] - 1s 48us/sample - loss: 0.3966 - acc: 0.8747 - val_loss: 0.4104 - val_acc: 0.8516\n",
            "Epoch 11/40\n",
            "15000/15000 [==============================] - 1s 46us/sample - loss: 0.3641 - acc: 0.8842 - val_loss: 0.3855 - val_acc: 0.8610\n",
            "Epoch 12/40\n",
            "15000/15000 [==============================] - 1s 46us/sample - loss: 0.3366 - acc: 0.8905 - val_loss: 0.3661 - val_acc: 0.8634\n",
            "Epoch 13/40\n",
            "15000/15000 [==============================] - 1s 47us/sample - loss: 0.3139 - acc: 0.8959 - val_loss: 0.3491 - val_acc: 0.8697\n",
            "Epoch 14/40\n",
            "15000/15000 [==============================] - 1s 46us/sample - loss: 0.2935 - acc: 0.9020 - val_loss: 0.3366 - val_acc: 0.8735\n",
            "Epoch 15/40\n",
            "15000/15000 [==============================] - 1s 46us/sample - loss: 0.2765 - acc: 0.9053 - val_loss: 0.3263 - val_acc: 0.8741\n",
            "Epoch 16/40\n",
            "15000/15000 [==============================] - 1s 48us/sample - loss: 0.2611 - acc: 0.9114 - val_loss: 0.3176 - val_acc: 0.8749\n",
            "Epoch 17/40\n",
            "15000/15000 [==============================] - 1s 48us/sample - loss: 0.2469 - acc: 0.9154 - val_loss: 0.3103 - val_acc: 0.8781\n",
            "Epoch 18/40\n",
            "15000/15000 [==============================] - 1s 47us/sample - loss: 0.2344 - acc: 0.9203 - val_loss: 0.3042 - val_acc: 0.8798\n",
            "Epoch 19/40\n",
            "15000/15000 [==============================] - 1s 47us/sample - loss: 0.2231 - acc: 0.9223 - val_loss: 0.2989 - val_acc: 0.8817\n",
            "Epoch 20/40\n",
            "15000/15000 [==============================] - 1s 46us/sample - loss: 0.2129 - acc: 0.9265 - val_loss: 0.2953 - val_acc: 0.8815\n",
            "Epoch 21/40\n",
            "15000/15000 [==============================] - 1s 47us/sample - loss: 0.2026 - acc: 0.9329 - val_loss: 0.2921 - val_acc: 0.8829\n",
            "Epoch 22/40\n",
            "15000/15000 [==============================] - 1s 48us/sample - loss: 0.1939 - acc: 0.9355 - val_loss: 0.2897 - val_acc: 0.8838\n",
            "Epoch 23/40\n",
            "15000/15000 [==============================] - 1s 46us/sample - loss: 0.1849 - acc: 0.9400 - val_loss: 0.2884 - val_acc: 0.8835\n",
            "Epoch 24/40\n",
            "15000/15000 [==============================] - 1s 45us/sample - loss: 0.1770 - acc: 0.9427 - val_loss: 0.2864 - val_acc: 0.8841\n",
            "Epoch 25/40\n",
            "15000/15000 [==============================] - 1s 45us/sample - loss: 0.1689 - acc: 0.9459 - val_loss: 0.2852 - val_acc: 0.8849\n",
            "Epoch 26/40\n",
            "15000/15000 [==============================] - 1s 46us/sample - loss: 0.1616 - acc: 0.9487 - val_loss: 0.2857 - val_acc: 0.8840\n",
            "Epoch 27/40\n",
            "15000/15000 [==============================] - 1s 48us/sample - loss: 0.1548 - acc: 0.9513 - val_loss: 0.2853 - val_acc: 0.8839\n",
            "Epoch 28/40\n",
            "15000/15000 [==============================] - 1s 47us/sample - loss: 0.1484 - acc: 0.9538 - val_loss: 0.2857 - val_acc: 0.8852\n",
            "Epoch 29/40\n",
            "15000/15000 [==============================] - 1s 49us/sample - loss: 0.1427 - acc: 0.9572 - val_loss: 0.2879 - val_acc: 0.8832\n",
            "Epoch 30/40\n",
            "15000/15000 [==============================] - 1s 50us/sample - loss: 0.1369 - acc: 0.9589 - val_loss: 0.2872 - val_acc: 0.8852\n",
            "Epoch 31/40\n",
            "15000/15000 [==============================] - 1s 49us/sample - loss: 0.1310 - acc: 0.9611 - val_loss: 0.2886 - val_acc: 0.8859\n",
            "Epoch 32/40\n",
            "15000/15000 [==============================] - 1s 48us/sample - loss: 0.1257 - acc: 0.9643 - val_loss: 0.2903 - val_acc: 0.8854\n",
            "Epoch 33/40\n",
            "15000/15000 [==============================] - 1s 47us/sample - loss: 0.1206 - acc: 0.9659 - val_loss: 0.2929 - val_acc: 0.8844\n",
            "Epoch 34/40\n",
            "15000/15000 [==============================] - 1s 48us/sample - loss: 0.1161 - acc: 0.9668 - val_loss: 0.2949 - val_acc: 0.8852\n",
            "Epoch 35/40\n",
            "15000/15000 [==============================] - 1s 48us/sample - loss: 0.1118 - acc: 0.9682 - val_loss: 0.2982 - val_acc: 0.8848\n",
            "Epoch 36/40\n",
            "15000/15000 [==============================] - 1s 47us/sample - loss: 0.1074 - acc: 0.9706 - val_loss: 0.3000 - val_acc: 0.8843\n",
            "Epoch 37/40\n",
            "15000/15000 [==============================] - 1s 47us/sample - loss: 0.1031 - acc: 0.9720 - val_loss: 0.3027 - val_acc: 0.8839\n",
            "Epoch 38/40\n",
            "15000/15000 [==============================] - 1s 47us/sample - loss: 0.0991 - acc: 0.9732 - val_loss: 0.3066 - val_acc: 0.8835\n",
            "Epoch 39/40\n",
            "15000/15000 [==============================] - 1s 46us/sample - loss: 0.0959 - acc: 0.9745 - val_loss: 0.3103 - val_acc: 0.8816\n",
            "Epoch 40/40\n",
            "15000/15000 [==============================] - 1s 46us/sample - loss: 0.0918 - acc: 0.9767 - val_loss: 0.3128 - val_acc: 0.8821\n"
          ],
          "name": "stdout"
        }
      ]
    },
    {
      "metadata": {
        "id": "so8ELvgFWnEu",
        "colab_type": "text"
      },
      "cell_type": "markdown",
      "source": [
        "# Evaluate the model\n",
        "\n",
        "Two values will be returned:\n",
        "  1. Loss -- A number which represents our error (lower is better)\n",
        "  2. Accuracy  "
      ]
    },
    {
      "metadata": {
        "id": "Hn2t1aMdWFKZ",
        "colab_type": "code",
        "colab": {
          "base_uri": "https://localhost:8080/",
          "height": 52
        },
        "outputId": "0f0edd78-dca2-44f8-9288-efa03ef97b02"
      },
      "cell_type": "code",
      "source": [
        "results = model.evaluate(test_data, test_labels)\n",
        "print(results)"
      ],
      "execution_count": 15,
      "outputs": [
        {
          "output_type": "stream",
          "text": [
            "25000/25000 [==============================] - 1s 35us/sample - loss: 0.3339 - acc: 0.8719\n",
            "[0.3339301110458374, 0.87188]\n"
          ],
          "name": "stdout"
        }
      ]
    },
    {
      "metadata": {
        "id": "7KHwL7Z8XMPi",
        "colab_type": "text"
      },
      "cell_type": "markdown",
      "source": [
        "This fairly naive approach achieves an accuracy of about 87%. With more advanced approaches, the model should get closer to 95%."
      ]
    },
    {
      "metadata": {
        "id": "mxlpsN87XYMJ",
        "colab_type": "text"
      },
      "cell_type": "markdown",
      "source": [
        "# Plot he accuracy and loss over time\n",
        "\n",
        "`model.fit()` returns a [`History`](https://keras.io/callbacks/#history) object that contains a dictionary with everything that happened during training."
      ]
    },
    {
      "metadata": {
        "id": "krKVTsS_XHhl",
        "colab_type": "code",
        "colab": {
          "base_uri": "https://localhost:8080/",
          "height": 35
        },
        "outputId": "a5d3f6ed-7571-48fc-c765-bc05eb8f7969"
      },
      "cell_type": "code",
      "source": [
        "history_dict = history.history\n",
        "history_dict.keys()"
      ],
      "execution_count": 16,
      "outputs": [
        {
          "output_type": "execute_result",
          "data": {
            "text/plain": [
              "dict_keys(['loss', 'acc', 'val_loss', 'val_acc'])"
            ]
          },
          "metadata": {
            "tags": []
          },
          "execution_count": 16
        }
      ]
    },
    {
      "metadata": {
        "id": "SPeLyqV8YBS9",
        "colab_type": "code",
        "colab": {
          "base_uri": "https://localhost:8080/",
          "height": 295
        },
        "outputId": "61477b48-353f-4186-b73f-3df5345bf528"
      },
      "cell_type": "code",
      "source": [
        "def plot_loss_epoch(history):\n",
        "\n",
        "  loss = history['loss']\n",
        "  val_loss = history['val_loss']\n",
        "  \n",
        "  epochs = range(1, len(loss) + 1)\n",
        "  \n",
        "  plt.clf() # clear figure\n",
        "  plt.plot(epochs, loss, 'bo', label='Training loss')\n",
        "  plt.plot(epochs, val_loss, 'b', label='Validation loss')\n",
        "  plt.title('Training and validation loss')\n",
        "  plt.xlabel('Epochs')\n",
        "  plt.ylabel('Loss')\n",
        "  plt.legend()\n",
        "  \n",
        "  plt.show()\n",
        "  \n",
        "plot_loss_epoch(history_dict)"
      ],
      "execution_count": 17,
      "outputs": [
        {
          "output_type": "display_data",
          "data": {
            "image/png": "[encoded data removed]",
            "text/plain": [
              "<Figure size 432x288 with 1 Axes>"
            ]
          },
          "metadata": {
            "tags": []
          }
        }
      ]
    },
    {
      "metadata": {
        "id": "G3isEhsdZCUB",
        "colab_type": "code",
        "colab": {
          "base_uri": "https://localhost:8080/",
          "height": 295
        },
        "outputId": "b44f74c3-79d5-4582-e3a2-f19286b0f60a"
      },
      "cell_type": "code",
      "source": [
        "def plot_acc_epoch(history):\n",
        "  \n",
        "  acc = history['acc']\n",
        "  val_acc = history['val_acc']\n",
        "  \n",
        "  epochs = range(1, len(acc) + 1)\n",
        "  \n",
        "  plt.clf() # clear figure\n",
        "  plt.plot(epochs, acc, 'bo', label='Training acc')\n",
        "  plt.plot(epochs, val_acc, 'b', label='Validation acc')\n",
        "  plt.title('Training and validation accuracy')\n",
        "  plt.xlabel('Epochs')\n",
        "  plt.ylabel('Accuracy')\n",
        "  plt.legend()\n",
        "  \n",
        "  plt.show()\n",
        "  \n",
        "plot_acc_epoch(history_dict)"
      ],
      "execution_count": 18,
      "outputs": [
        {
          "output_type": "display_data",
          "data": {
            "image/png": "[encoded data removed]",
            "text/plain": [
              "<Figure size 432x288 with 1 Axes>"
            ]
          },
          "metadata": {
            "tags": []
          }
        }
      ]
    },
    {
      "metadata": {
        "id": "rfPukU5VbPRt",
        "colab_type": "text"
      },
      "cell_type": "markdown",
      "source": [
        "Notice the training loss *decreses* with each epoch and the training accuracy *increases* with each epoch. This is expected when using a gradient descent optimization -- it should minimize the desired quantity on every iteration.\n",
        "\n",
        "This isn't the case for the validation loss and accuracy -- they seem to peak after about twenty epochs. This is an example of overfitting: the model performs better on the training data than it does on data it has never seen before. After this point, the model over-optimizes and learns representations to *specific* to the training data that do not *generalize* to test data.\n",
        "\n",
        "For this case, we can prevent overfitting by simply stopping the training after twenty or so epochs."
      ]
    },
    {
      "metadata": {
        "id": "mNekFjB8aUZ1",
        "colab_type": "code",
        "colab": {}
      },
      "cell_type": "code",
      "source": [
        ""
      ],
      "execution_count": 0,
      "outputs": []
    }
  ]
}