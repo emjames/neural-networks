{
  "nbformat": 4,
  "nbformat_minor": 0,
  "metadata": {
    "colab": {
      "name": "spam_ham.ipynb",
      "version": "0.3.2",
      "provenance": [],
      "include_colab_link": true
    },
    "kernelspec": {
      "name": "python3",
      "display_name": "Python 3"
    }
  },
  "cells": [
    {
      "cell_type": "markdown",
      "metadata": {
        "id": "view-in-github",
        "colab_type": "text"
      },
      "source": [
        "[View in Colaboratory](https://colab.research.google.com/github/emjames/neural-networks/blob/dev/spam_ham.ipynb)"
      ]
    },
    {
      "metadata": {
        "id": "9LA2eKk5fp3O",
        "colab_type": "text"
      },
      "cell_type": "markdown",
      "source": [
        "### TubeSpam: Comment Spam Filtering on YouTube\n",
        "[White paper](https://ieeexplore.ieee.org/document/7424299/)\n",
        "\n",
        "### Semantically Enriched Machine Learning Approach to Filter YouTube Comments for Socially Augmented User Models\n",
        "[White paper](https://pdfs.semanticscholar.org/8979/0601d6373766e5a7b99729c8f8bd8b4abf2b.pdf)\n"
      ]
    },
    {
      "metadata": {
        "id": "Xy_2n6wYWzp9",
        "colab_type": "code",
        "colab": {}
      },
      "cell_type": "code",
      "source": [
        "# Get the data\n",
        "!wget 'https://archive.ics.uci.edu/ml/machine-learning-databases/00380/YouTube-Spam-Collection-v1.zip'\n",
        "!mkdir data\n",
        "!unzip 'YouTube-Spam-Collection-v1.zip' -d /data"
      ],
      "execution_count": 0,
      "outputs": []
    },
    {
      "metadata": {
        "id": "Y-uNMQyfX9Es",
        "colab_type": "code",
        "colab": {}
      },
      "cell_type": "code",
      "source": [
        "!ls /data"
      ],
      "execution_count": 0,
      "outputs": []
    },
    {
      "metadata": {
        "id": "ft7AdMt_bU9N",
        "colab_type": "code",
        "colab": {}
      },
      "cell_type": "code",
      "source": [
        "import os\n",
        "import glob\n",
        "import pandas as pd\n",
        "from sklearn.model_selection import train_test_split\n",
        "\n",
        "# Read the data\n",
        "path = r'/data'\n",
        "all_files = glob.glob(os.path.join(path, '*.csv'))\n",
        "# Concat the data files into one\n",
        "data = pd.concat(pd.read_csv(file) for file in all_files)\n",
        "df_train, df_test = train_test_split(data, test_size=0.33, random_state=42)"
      ],
      "execution_count": 0,
      "outputs": []
    },
    {
      "metadata": {
        "id": "OztRwIW1XkKb",
        "colab_type": "code",
        "colab": {}
      },
      "cell_type": "code",
      "source": [
        "# Explore the data\n",
        "df_train.head(5)"
      ],
      "execution_count": 0,
      "outputs": []
    },
    {
      "metadata": {
        "id": "gvJ5cQeLd4QF",
        "colab_type": "code",
        "colab": {
          "base_uri": "https://localhost:8080/",
          "height": 359
        },
        "outputId": "6136afff-110c-4e5c-e9b3-74c7ff8a7c64"
      },
      "cell_type": "code",
      "source": [
        "# We're interested in CONTENT and CLASS columns\n",
        "df_train = df_train.iloc[:, 3:]\n",
        "df_test = df_test.iloc[:, 3:]\n",
        "df_train.head(10)"
      ],
      "execution_count": 5,
      "outputs": [
        {
          "output_type": "execute_result",
          "data": {
            "text/html": [
              "<div>\n",
              "<style scoped>\n",
              "    .dataframe tbody tr th:only-of-type {\n",
              "        vertical-align: middle;\n",
              "    }\n",
              "\n",
              "    .dataframe tbody tr th {\n",
              "        vertical-align: top;\n",
              "    }\n",
              "\n",
              "    .dataframe thead th {\n",
              "        text-align: right;\n",
              "    }\n",
              "</style>\n",
              "<table border=\"1\" class=\"dataframe\">\n",
              "  <thead>\n",
              "    <tr style=\"text-align: right;\">\n",
              "      <th></th>\n",
              "      <th>CONTENT</th>\n",
              "      <th>CLASS</th>\n",
              "    </tr>\n",
              "  </thead>\n",
              "  <tbody>\n",
              "    <tr>\n",
              "      <th>355</th>\n",
              "      <td>I love dis song!! 3</td>\n",
              "      <td>0</td>\n",
              "    </tr>\n",
              "    <tr>\n",
              "      <th>99</th>\n",
              "      <td>Hey guys!  Can you please SUBSCRIBE to my chan...</td>\n",
              "      <td>1</td>\n",
              "    </tr>\n",
              "    <tr>\n",
              "      <th>88</th>\n",
              "      <td>The great mother of the jungle. Sweet and natu...</td>\n",
              "      <td>0</td>\n",
              "    </tr>\n",
              "    <tr>\n",
              "      <th>31</th>\n",
              "      <td>Came here to check the views, goodbye.﻿</td>\n",
              "      <td>0</td>\n",
              "    </tr>\n",
              "    <tr>\n",
              "      <th>197</th>\n",
              "      <td>What does that tattoo on her right tricep say?﻿</td>\n",
              "      <td>0</td>\n",
              "    </tr>\n",
              "    <tr>\n",
              "      <th>79</th>\n",
              "      <td>&amp;lt;3 this song so much.SHAKIRA YOUR A REALLY ...</td>\n",
              "      <td>0</td>\n",
              "    </tr>\n",
              "    <tr>\n",
              "      <th>293</th>\n",
              "      <td>How did you know that people makes another acc...</td>\n",
              "      <td>1</td>\n",
              "    </tr>\n",
              "    <tr>\n",
              "      <th>386</th>\n",
              "      <td>Check out this video on YouTube:﻿</td>\n",
              "      <td>1</td>\n",
              "    </tr>\n",
              "    <tr>\n",
              "      <th>193</th>\n",
              "      <td>katy perry is awesome﻿</td>\n",
              "      <td>0</td>\n",
              "    </tr>\n",
              "    <tr>\n",
              "      <th>177</th>\n",
              "      <td>https://www.surveymonkey.com/s/CVHMKLT﻿</td>\n",
              "      <td>1</td>\n",
              "    </tr>\n",
              "  </tbody>\n",
              "</table>\n",
              "</div>"
            ],
            "text/plain": [
              "                                               CONTENT  CLASS\n",
              "355                                I love dis song!! 3      0\n",
              "99   Hey guys!  Can you please SUBSCRIBE to my chan...      1\n",
              "88   The great mother of the jungle. Sweet and natu...      0\n",
              "31             Came here to check the views, goodbye.﻿      0\n",
              "197    What does that tattoo on her right tricep say?﻿      0\n",
              "79   &lt;3 this song so much.SHAKIRA YOUR A REALLY ...      0\n",
              "293  How did you know that people makes another acc...      1\n",
              "386                  Check out this video on YouTube:﻿      1\n",
              "193                             katy perry is awesome﻿      0\n",
              "177            https://www.surveymonkey.com/s/CVHMKLT﻿      1"
            ]
          },
          "metadata": {
            "tags": []
          },
          "execution_count": 5
        }
      ]
    },
    {
      "metadata": {
        "id": "a1-Pso61fM07",
        "colab_type": "code",
        "colab": {}
      },
      "cell_type": "code",
      "source": [
        "# Pre-processing the comments\n",
        "import string\n",
        "from sklearn.feature_extraction import stop_words\n",
        "# stop_words.ENGLISH_STOP_WORDS\n",
        "def text_preprocess(text):\n",
        "#   text = text.translate(str.maketrans('', '', string.punctuation))\n",
        "  text = [word for word in text.split() if word.lower() not in stop_words.ENGLISH_STOP_WORDS]\n",
        "  return ' '.join(text)"
      ],
      "execution_count": 0,
      "outputs": []
    },
    {
      "metadata": {
        "id": "rjsvOzs52Lr1",
        "colab_type": "code",
        "colab": {}
      },
      "cell_type": "code",
      "source": [
        "df_content = df_train.iloc[:,0].apply(text_preprocess)"
      ],
      "execution_count": 0,
      "outputs": []
    },
    {
      "metadata": {
        "id": "pAuh_zzv2oS6",
        "colab_type": "code",
        "colab": {
          "base_uri": "https://localhost:8080/",
          "height": 119
        },
        "outputId": "67142a98-8aca-44a0-ed40-08fba475aab3"
      },
      "cell_type": "code",
      "source": [
        "df_content.head(5)"
      ],
      "execution_count": 8,
      "outputs": [
        {
          "output_type": "execute_result",
          "data": {
            "text/plain": [
              "355                                    love dis song!! 3\n",
              "99     Hey guys! SUBSCRIBE channel,because I'm gonna ...\n",
              "88     great mother jungle. Sweet natural. like videos.﻿\n",
              "31                           Came check views, goodbye.﻿\n",
              "197                       does tattoo right tricep say?﻿\n",
              "Name: CONTENT, dtype: object"
            ]
          },
          "metadata": {
            "tags": []
          },
          "execution_count": 8
        }
      ]
    },
    {
      "metadata": {
        "id": "XlKYDPhb3NkI",
        "colab_type": "code",
        "colab": {}
      },
      "cell_type": "code",
      "source": [
        "# TF-IDF is a way to judge the topic of an article.\n",
        "# This is done by the kind of words it contains.\n",
        "# Here words are given weight so it measures relevance, not frequency\n",
        "from sklearn.feature_extraction import TfidfVectorizer\n",
        "vectorizer = TfidfVectorizer()"
      ],
      "execution_count": 0,
      "outputs": []
    }
  ]
}