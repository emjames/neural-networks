{
  "nbformat": 4,
  "nbformat_minor": 0,
  "metadata": {
    "colab": {
      "name": "sentiment_imdb.ipynb",
      "version": "0.3.2",
      "provenance": [],
      "include_colab_link": true
    },
    "kernelspec": {
      "name": "python2",
      "display_name": "Python 2"
    },
    "accelerator": "GPU"
  },
  "cells": [
    {
      "cell_type": "markdown",
      "metadata": {
        "id": "view-in-github",
        "colab_type": "text"
      },
      "source": [
        "[View in Colaboratory](https://colab.research.google.com/github/emjames/neural-networks/blob/master/sentiment_imdb.ipynb)"
      ]
    },
    {
      "metadata": {
        "id": "D9gnidRoKW34",
        "colab_type": "code",
        "colab": {}
      },
      "cell_type": "code",
      "source": [
        "!pip install tflearn"
      ],
      "execution_count": 0,
      "outputs": []
    },
    {
      "metadata": {
        "id": "7IbkDAd_KOFq",
        "colab_type": "code",
        "colab": {
          "base_uri": "https://localhost:8080/",
          "height": 102
        },
        "outputId": "f9d3c14d-114e-462c-ac2b-f84ae4dab94c"
      },
      "cell_type": "code",
      "source": [
        "from __future__ import division, print_function, absolute_import\n",
        "\n",
        "import tflearn\n",
        "from tflearn.data_utils import to_categorical, pad_sequences\n",
        "from tflearn.datasets import imdb\n",
        "\n",
        "# IMDB Dataset loading\n",
        "train, test, _ = imdb.load_data(path='imdb.pkl', n_words=10000,\n",
        "                                valid_portion=0.1)\n",
        "trainX, trainY = train\n",
        "testX, testY = test\n",
        "\n",
        "# Data preprocessing\n",
        "# Sequence padding\n",
        "trainX = pad_sequences(trainX, maxlen=100, value=0.)\n",
        "testX = pad_sequences(testX, maxlen=100, value=0.)\n",
        "\n",
        "# Converting labels to binary vectors\n",
        "trainY = to_categorical(trainY, nb_classes=2)\n",
        "testY = to_categorical(testY, nb_classes=2)\n",
        "\n",
        "# Network building\n",
        "net = tflearn.input_data([None, 100])\n",
        "net = tflearn.embedding(net, input_dim=10000, output_dim=128)\n",
        "net = tflearn.lstm(net, 128, dropout=0.8)\n",
        "net = tflearn.fully_connected(net, 2, activation='softmax')\n",
        "net = tflearn.regression(net, optimizer='adam', learning_rate=0.001,\n",
        "                         loss='categorical_crossentropy')\n",
        "\n",
        "# Training\n",
        "model = tflearn.DNN(net, tensorboard_verbose=0)\n",
        "model.fit(trainX, trainY, validation_set=(testX, testY), show_metric=True,\n",
        "          batch_size=32)"
      ],
      "execution_count": 3,
      "outputs": [
        {
          "output_type": "stream",
          "text": [
            "Training Step: 7039  | total loss: \u001b[1m\u001b[32m0.04257\u001b[0m\u001b[0m | time: 66.810s\n",
            "| Adam | epoch: 010 | loss: 0.04257 - acc: 0.9887 -- iter: 22496/22500\n",
            "Training Step: 7040  | total loss: \u001b[1m\u001b[32m0.03878\u001b[0m\u001b[0m | time: 68.696s\n",
            "| Adam | epoch: 010 | loss: 0.03878 - acc: 0.9898 | val_loss: 0.95556 - val_acc: 0.8068 -- iter: 22500/22500\n",
            "--\n"
          ],
          "name": "stdout"
        }
      ]
    },
    {
      "metadata": {
        "id": "M9jwleMrKanP",
        "colab_type": "code",
        "colab": {}
      },
      "cell_type": "code",
      "source": [
        ""
      ],
      "execution_count": 0,
      "outputs": []
    }
  ]
}