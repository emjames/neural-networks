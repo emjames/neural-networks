{
  "nbformat": 4,
  "nbformat_minor": 0,
  "metadata": {
    "colab": {
      "name": "KMeans.ipynb",
      "version": "0.3.2",
      "provenance": [],
      "include_colab_link": true
    },
    "kernelspec": {
      "name": "python3",
      "display_name": "Python 3"
    }
  },
  "cells": [
    {
      "cell_type": "markdown",
      "metadata": {
        "id": "view-in-github",
        "colab_type": "text"
      },
      "source": [
        "[View in Colaboratory](https://colab.research.google.com/github/emjames/neural-networks/blob/master/KMeans.ipynb)"
      ]
    },
    {
      "metadata": {
        "id": "1bzcnONGFpQh",
        "colab_type": "text"
      },
      "cell_type": "markdown",
      "source": [
        "# K-Means implementation with TensorFlow\n",
        "\n",
        "Apply K-Means to classify handwritten digit images(MNIST)"
      ]
    },
    {
      "metadata": {
        "id": "zenQyiTgFYAC",
        "colab_type": "code",
        "colab": {}
      },
      "cell_type": "code",
      "source": [
        "# SETUP\n",
        "import numpy as np\n",
        "import tensorflow as tf\n",
        "from tensorflow import keras\n",
        "# Ops and modules related to factorization.\n",
        "from tensorflow.contrib.factorization import KMeans\n",
        "\n",
        "# Ignore GPUs as tf random forest doesn't benefit from it\n",
        "import os\n",
        "os.environ[\"CUDA_VISIBLE_DEVICES\"] = \"\"\n"
      ],
      "execution_count": 0,
      "outputs": []
    },
    {
      "metadata": {
        "id": "FlhPIfczGV7i",
        "colab_type": "code",
        "colab": {}
      },
      "cell_type": "code",
      "source": [
        "# IMPORT DATA\n",
        "# mnist = keras.datasets.mnist\n",
        "# (x_train, y_train), (x_test, y_test) = mnist.load_data()\n",
        "from tensorflow.examples.tutorials.mnist import input_data\n",
        "mnist = input_data.read_data_sets(\"/tmp/data/\", one_hot=True)\n",
        "full_data_x = mnist.train.images"
      ],
      "execution_count": 0,
      "outputs": []
    },
    {
      "metadata": {
        "id": "cavG4chiHk8r",
        "colab_type": "code",
        "colab": {}
      },
      "cell_type": "code",
      "source": [
        "# EXPLORE DATA\n",
        "x_train.shape\n",
        "# > (60000, 28, 28)\n",
        "x_test.shape\n",
        "# > (10000, 28, 28)"
      ],
      "execution_count": 0,
      "outputs": []
    },
    {
      "metadata": {
        "id": "Wrbq9TYdH3Wi",
        "colab_type": "code",
        "colab": {}
      },
      "cell_type": "code",
      "source": [
        "# DEFINE PARAMETERS\n",
        "# Total steps to train\n",
        "num_steps = 50\n",
        "# The number of samples per batch\n",
        "batch_size = 1024\n",
        "# The number of clusters\n",
        "k = 25\n",
        "# The 10 digits\n",
        "num_classes = 10\n",
        "# Each image is 28x28 pixels\n",
        "num_features = 784"
      ],
      "execution_count": 0,
      "outputs": []
    },
    {
      "metadata": {
        "id": "NtUk8KFuJeYS",
        "colab_type": "code",
        "colab": {}
      },
      "cell_type": "code",
      "source": [
        "# Input images\n",
        "X = tf.placeholder(tf.float32, shape=[None, num_features])\n",
        "# Labels\n",
        "Y = tf.placeholder(tf.float32, shape=[None, num_classes])"
      ],
      "execution_count": 0,
      "outputs": []
    },
    {
      "metadata": {
        "id": "pJyb0LNrLelD",
        "colab_type": "code",
        "colab": {}
      },
      "cell_type": "code",
      "source": [
        "# K-Means parameters\n",
        "kmeans = KMeans(inputs=X, num_clusters=k, distance_metric='cosine')\n",
        "# Build KMeans graph\n",
        "training_graph = kmeans.training_graph()"
      ],
      "execution_count": 0,
      "outputs": []
    },
    {
      "metadata": {
        "id": "GWO-ppuhREAS",
        "colab_type": "text"
      },
      "cell_type": "markdown",
      "source": [
        "[```kmeans.training_graph()```](https://www.tensorflow.org/api_docs/python/tf/contrib/factorization/KMeans)\n",
        "\n",
        "**Returns**  \n",
        "A tuple consisting of:\n",
        "* all_scores: A matrix (or list of matrices) of dimensions (num_input, num_clusters) where the value is the distance of an input vector and a cluster center. \n",
        "\n",
        "* cluster_idx: A vector (or list of vectors). Each element in the vector corresponds to an input row in 'inp' and specifies the cluster id corresponding to the input. \n",
        "\n",
        "* scores: Similar to cluster_idx but specifies the distance to the assigned cluster instead. \n",
        "\n",
        "* cluster_centers_initialized: scalar indicating whether clusters have been initialized. \n",
        "\n",
        "* init_op: an op to initialize the clusters. \n",
        "\n",
        "* training_op: an op that runs an iteration of training."
      ]
    },
    {
      "metadata": {
        "id": "pz_iYjHRPS47",
        "colab_type": "code",
        "colab": {}
      },
      "cell_type": "code",
      "source": [
        "# Build KMeans graph\n",
        "(all_scores, cluster_idx, scores, cluster_centers_initialized,\n",
        "init_op, train_op) =training_graph()\n",
        "\n",
        "cluster_idx = cluster_idx[0]\n",
        "avg_distance = tf.reduce_mean(scores)\n",
        "\n",
        "# Initialize the variables\n",
        "init_vars = tf.global_variables_initializer()\n",
        "\n",
        "with tf.Session() as sess:\n",
        "  sess.run(init_vars, feed_dict={X: full_data_x})\n",
        "  sess.run(init_op, feed_dict={X: full_data_x})"
      ],
      "execution_count": 0,
      "outputs": []
    },
    {
      "metadata": {
        "id": "kVgJvP6bT44r",
        "colab_type": "code",
        "colab": {}
      },
      "cell_type": "code",
      "source": [
        "# Training\n",
        "for i in range(1, num_steps + 1):\n",
        "    _, d, idx = sess.run([train_op, avg_distance, cluster_idx],\n",
        "                         feed_dict={X: full_data_x})\n",
        "    if i % 10 == 0 or i == 1:\n",
        "        print(\"Step %i, Avg Distance: %f\" % (i, d))\n",
        "\n",
        "# Assign a label to each centroid\n",
        "# Count total number of labels per centroid, using the label of each training\n",
        "# sample to their closest centroid (given by 'idx')\n",
        "counts = np.zeros(shape=(k, num_classes))\n",
        "for i in range(len(idx)):\n",
        "    counts[idx[i]] += mnist.train.labels[i]\n",
        "# Assign the most frequent label to the centroid\n",
        "labels_map = [np.argmax(c) for c in counts]\n",
        "labels_map = tf.convert_to_tensor(labels_map)"
      ],
      "execution_count": 0,
      "outputs": []
    },
    {
      "metadata": {
        "id": "Kfam-57DUJYs",
        "colab_type": "code",
        "colab": {}
      },
      "cell_type": "code",
      "source": [
        "\t# Evaluation ops\n",
        "# Lookup: centroid_id -> label\n",
        "cluster_label = tf.nn.embedding_lookup(labels_map, cluster_idx)\n",
        "# Compute accuracy\n",
        "correct_prediction = tf.equal(cluster_label, tf.cast(tf.argmax(Y, 1), tf.int32))\n",
        "accuracy_op = tf.reduce_mean(tf.cast(correct_prediction, tf.float32))\n",
        "\n",
        "# Test Model\n",
        "test_x, test_y = mnist.test.images, mnist.test.labels\n",
        "print(\"Test Accuracy:\", sess.run(accuracy_op, feed_dict={X: test_x, Y: test_y}))"
      ],
      "execution_count": 0,
      "outputs": []
    },
    {
      "metadata": {
        "id": "Q9dUfw-nULEk",
        "colab_type": "code",
        "colab": {}
      },
      "cell_type": "code",
      "source": [
        ""
      ],
      "execution_count": 0,
      "outputs": []
    }
  ]
}